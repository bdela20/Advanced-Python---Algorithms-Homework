{
 "cells": [
  {
   "cell_type": "markdown",
   "metadata": {},
   "source": [
    "# Algorithms, Binary Search & Linked Lists"
   ]
  },
  {
   "cell_type": "markdown",
   "metadata": {},
   "source": [
    "## Tasks Today:\n",
    " \n",
    "1) <b>In-Place Algorithms</b> <br>\n",
    " &nbsp;&nbsp;&nbsp;&nbsp; a) Syntax <br>\n",
    " &nbsp;&nbsp;&nbsp;&nbsp; a) Out of Place Algorithm <br>\n",
    " &nbsp;&nbsp;&nbsp;&nbsp; b) In-Class Exercise #1 <br>\n",
    "2) <b>Two Pointers</b> <br>\n",
    "3) <b>Linked Lists</b> <br>\n",
    "4) <b>Merge Sort</b> <br>\n",
    " &nbsp;&nbsp;&nbsp;&nbsp; a) Video on Algorithms <br>\n",
    " &nbsp;&nbsp;&nbsp;&nbsp; b) How it Works <br>\n",
    "5) <b>Exercises</b> <br>\n",
    " &nbsp;&nbsp;&nbsp;&nbsp; a) Exercise #1 - Reverse a List in Place Using an In-Place Algorithm <br>\n",
    " &nbsp;&nbsp;&nbsp;&nbsp; b) Exercise #2 - Find Distinct Words <br>\n",
    " &nbsp;&nbsp;&nbsp;&nbsp; c) Exercise #3 - Write a program to implement a Linear Search Algorithm. <br>"
   ]
  },
  {
   "cell_type": "markdown",
   "metadata": {},
   "source": [
    "## In-Place Algorithms"
   ]
  },
  {
   "cell_type": "markdown",
   "metadata": {},
   "source": [
    "#### Syntax"
   ]
  },
  {
   "cell_type": "code",
   "execution_count": 5,
   "metadata": {},
   "outputs": [
    {
     "name": "stdout",
     "output_type": "stream",
     "text": [
      "Before swap: [20, 4, 10]\n",
      "After swap: [10, 4, 20]\n"
     ]
    }
   ],
   "source": [
    "#var[i], var[i+1], = var[i+1], var[i]\n",
    "# sometimes this is know as swap algorithm\n",
    "def swap(a_list, x, y, z):\n",
    "    a_list[x], a_list[y], a_list[z] = a_list[z], a_list[y], a_list[x]\n",
    "    return a_list\n",
    "\n",
    "my_list = [20, 4, 10]\n",
    "print(f\"Before swap: {my_list}\")\n",
    "\n",
    "#swap(my_list, 2, 0, 1)\n",
    "swap(my_list, 0, 1, 2)\n",
    "print(f\"After swap: {my_list}\")"
   ]
  },
  {
   "cell_type": "markdown",
   "metadata": {},
   "source": [
    "#### Out of Place Algorithm"
   ]
  },
  {
   "cell_type": "code",
   "execution_count": 17,
   "metadata": {},
   "outputs": [
    {
     "name": "stdout",
     "output_type": "stream",
     "text": [
      "Before  ['a', 'b', 'c', 'd']\n",
      "After  ['d', 'c', 'b', 'a']\n",
      "Original  ['a', 'b', 'c', 'd']\n"
     ]
    }
   ],
   "source": [
    "#Not swaping, completely reversing BUT also copies to another place in memory \n",
    "\n",
    "# my_list_copy = my_list[::-1]\n",
    "# print(my_list_copy)\n",
    "\n",
    "array = ['a', 'b', 'c', 'd']\n",
    "new_array = ['a'] * len(array)\n",
    "\n",
    "print(\"Before \", array)\n",
    "length = len(array) - 1\n",
    "\n",
    "for i in range(length):\n",
    "    new_array[i] = array[length - i]\n",
    "    \n",
    "# array = new_array\n",
    "print(\"After \", new_array)\n",
    "print(\"Original \", array)"
   ]
  },
  {
   "cell_type": "markdown",
   "metadata": {},
   "source": [
    "#### In-Class Exercise #1 <br>\n",
    "<p>Write a function that takes in four arguments (list, index1, index2, index3), and swaps those three positions in the list passed in.</p>"
   ]
  },
  {
   "cell_type": "code",
   "execution_count": 40,
   "metadata": {},
   "outputs": [
    {
     "name": "stdout",
     "output_type": "stream",
     "text": [
      "Original  [10, 4, 3, 8, 4, 2, 6]\n",
      "After [10, 2, 3, 4, 4, 8, 6]\n"
     ]
    }
   ],
   "source": [
    "def swap_elements(my_list, index1, index2, index3):\n",
    "    try:\n",
    "        my_list[index1], my_list[index2], my_list[index3] = my_list[index3], my_list[index1], my_list[index2]\n",
    "    except IndexError:\n",
    "        print(\"Error: One or more indices are out of bounds.\")\n",
    "\n",
    "\n",
    "list_1 = [10, 4, 3, 8, 4, 2, 6]\n",
    "print(\"Original \", list_1)\n",
    "\n",
    "\n",
    "swap_elements(list_1, 1, 3, 5,)\n",
    "\n",
    "\n",
    "print(\"After\", list_1)\n"
   ]
  },
  {
   "cell_type": "code",
   "execution_count": null,
   "metadata": {},
   "outputs": [],
   "source": [
    "list_1 = [10, 4, 3, 8, 4, 2, 6]"
   ]
  },
  {
   "cell_type": "markdown",
   "metadata": {},
   "source": [
    "## Two Pointers"
   ]
  },
  {
   "cell_type": "markdown",
   "metadata": {},
   "source": [
    "#### Syntax"
   ]
  },
  {
   "cell_type": "code",
   "execution_count": 38,
   "metadata": {},
   "outputs": [
    {
     "data": {
      "text/plain": [
       "[22, 11, 4, 8, 9, 12, 3, 2, 1]"
      ]
     },
     "execution_count": 38,
     "metadata": {},
     "output_type": "execute_result"
    }
   ],
   "source": [
    "#alist[left], alist[right] = alist[right], alist[left]\n",
    "\n",
    "def twoPointers(alist):\n",
    "    #create the pointers \n",
    "    left = 0\n",
    "    right = len(alist) - 1\n",
    "    # set up a loop that works thorugh our list and swaps things one pair at a time\n",
    "    while left <= right:\n",
    "        alist[left], alist[right] = alist[right], alist[left]\n",
    "        left += 1\n",
    "        right -= 1\n",
    "    return alist\n",
    "my_list2 = [1,2,3,12,9,8,4,11,22]\n",
    "\n",
    "twoPointers(my_list2)\n"
   ]
  },
  {
   "cell_type": "markdown",
   "metadata": {},
   "source": [
    "#### Video of Algorithms <br>\n",
    "<p>Watch the video about algorithms.</p>\n",
    "\n",
    "https://www.youtube.com/watch?v=Q9HjeFD62Uk\n",
    "\n",
    "https://www.youtube.com/watch?v=kPRA0W1kECg\n",
    "\n",
    "https://www.youtube.com/watch?v=ZZuD6iUe3Pc"
   ]
  },
  {
   "cell_type": "markdown",
   "metadata": {},
   "source": [
    "# Sorting Algorithms"
   ]
  },
  {
   "cell_type": "markdown",
   "metadata": {},
   "source": [
    "#### Bubble Sort\n",
    "\n",
    "Worst Case: O(n^2) Time - O(1) Space"
   ]
  },
  {
   "cell_type": "code",
   "execution_count": 3,
   "metadata": {},
   "outputs": [
    {
     "data": {
      "text/plain": [
       "[1, 22, 34, 44, 55, 66, 88, 100]"
      ]
     },
     "execution_count": 3,
     "metadata": {},
     "output_type": "execute_result"
    }
   ],
   "source": [
    "#Best case: O(n) - linear\n",
    "def swap(i, j, array):\n",
    "    array[i], array[j] = array[j], array[i]\n",
    "    \n",
    "def bubbleSort(array):\n",
    "    isSorted = False\n",
    "    while not isSorted:\n",
    "        isSorted = True \n",
    "        for num in range(len(array) - 1):\n",
    "            if array[num] > array[num+1]:\n",
    "                swap(num, num + 1, array)\n",
    "                isSorted = False\n",
    "    return array\n",
    "bubbleSort([22,55,88,44,1,100,34,66])"
   ]
  },
  {
   "cell_type": "markdown",
   "metadata": {},
   "source": [
    "##### Insertion Sort\n",
    "\n",
    "Worst Case: O(n^2) time - O(1)space"
   ]
  },
  {
   "cell_type": "code",
   "execution_count": 8,
   "metadata": {},
   "outputs": [
    {
     "data": {
      "text/plain": [
       "[1, 22, 34, 44, 55, 66, 88, 100]"
      ]
     },
     "execution_count": 8,
     "metadata": {},
     "output_type": "execute_result"
    }
   ],
   "source": [
    "def swap(i, j, array):\n",
    "    array[i], array[j] = array[j], array[i]\n",
    "    \n",
    "def insertionSort(array):\n",
    "    for i in range(1, len(array)):\n",
    "        j = i\n",
    "        while j > 0 and array[j] < array[j-1]:\n",
    "            swap(j, j - 1, array)\n",
    "            j -= 1\n",
    "            \n",
    "    return array\n",
    "bubbleSort([22,55,88,44,1,100,34,66]) "
   ]
  },
  {
   "cell_type": "markdown",
   "metadata": {},
   "source": [
    "## Merge Sort"
   ]
  },
  {
   "cell_type": "markdown",
   "metadata": {},
   "source": [
    "#### How it Works"
   ]
  },
  {
   "cell_type": "code",
   "execution_count": 18,
   "metadata": {},
   "outputs": [
    {
     "ename": "ImportError",
     "evalue": "cannot import name 'randit' from 'random' (/Users/bdela/anaconda3/lib/python3.11/random.py)",
     "output_type": "error",
     "traceback": [
      "\u001b[0;31m---------------------------------------------------------------------------\u001b[0m",
      "\u001b[0;31mImportError\u001b[0m                               Traceback (most recent call last)",
      "Cell \u001b[0;32mIn[18], line 6\u001b[0m\n\u001b[1;32m      1\u001b[0m \u001b[38;5;66;03m#Step 1: Split everything into it's own group \u001b[39;00m\n\u001b[1;32m      2\u001b[0m \u001b[38;5;66;03m#Step 2: From left to right, merge the two groups together \u001b[39;00m\n\u001b[1;32m      3\u001b[0m \u001b[38;5;66;03m#Step 3: While merging, place each item in the correct position within the merge group\u001b[39;00m\n\u001b[1;32m      4\u001b[0m \u001b[38;5;66;03m#Step 4: Continue steps 3-4 until only one group is left\u001b[39;00m\n\u001b[0;32m----> 6\u001b[0m \u001b[38;5;28;01mfrom\u001b[39;00m \u001b[38;5;21;01mrandom\u001b[39;00m \u001b[38;5;28;01mimport\u001b[39;00m randit\n\u001b[1;32m      7\u001b[0m \u001b[38;5;66;03m#used to generate random number list of 5 numbers from 0 to 20\u001b[39;00m\n\u001b[1;32m      8\u001b[0m nums \u001b[38;5;241m=\u001b[39m [randit9(\u001b[38;5;241m0\u001b[39m,\u001b[38;5;241m20\u001b[39m) \u001b[38;5;28;01mfor\u001b[39;00m i \u001b[38;5;129;01min\u001b[39;00m \u001b[38;5;28mrange\u001b[39m(\u001b[38;5;241m5\u001b[39m)]\n",
      "\u001b[0;31mImportError\u001b[0m: cannot import name 'randit' from 'random' (/Users/bdela/anaconda3/lib/python3.11/random.py)"
     ]
    }
   ],
   "source": [
    "#Step 1: Split everything into it's own group \n",
    "#Step 2: From left to right, merge the two groups together \n",
    "#Step 3: While merging, place each item in the correct position within the merge group\n",
    "#Step 4: Continue steps 3-4 until only one group is left\n",
    "\n",
    "from random import randit\n",
    "#used to generate random number list of 5 numbers from 0 to 20\n",
    "nums = [randit9(0,20) for i in range(5)]\n",
    "\n",
    "#Write merge sort below\n",
    "\n",
    "def mergeSort(alist):\n",
    "    print(\"Splitting...\", alist)\n",
    "    \n",
    "    #Step 1: Divide the array into equals parts (as much as you can)\n",
    "    if len(alist) > 1:\n",
    "        mid = len(alist) //2 \n",
    "        lefthalf = alist[:mid]\n",
    "        righthalf = alist[mid:]\n",
    "        \n",
    "        #recursively call margeSort to perform splits of needed \n",
    "        #Then merge once the splits are done\n",
    "        mergeSort(lefthalf)\n",
    "        mergeSort(righthalf)\n",
    "        \n",
    "        #Index pointers for our list\n",
    "        j = 0 #pointer from left half \n",
    "        j = 0 #pointer from right half\n",
    "        k = 0 #pointer from our main right\n",
    "        \n",
    "        \n",
    "    #Step 2: Compare the left half and the right half\n",
    "        while i < len(lefthalf) and j < len(righthalf):\n",
    "            if lefthalf[i] < righthalf[j]:\n",
    "                alist[k] = lefthalf[i]\n",
    "                i = i + 1\n",
    "            else:\n",
    "                alist[k] = righthalf[j]\n",
    "                j = j + 1\n",
    "            k = k + 1\n",
    "    #Step 3: While merging, place items in the correct position. \n",
    "        while i < len(lefthalf):\n",
    "            alist[k] = lefthalf[i]\n",
    "            i = i + 1\n",
    "            k = k + 1\n",
    "        while j < len(righthalf):\n",
    "            alist[k] = righthalf[j]\n",
    "            j = j + 1\n",
    "            k = k + 1\n",
    "    print(\"Merging...\", alist)\n",
    "    return alist\n",
    "\n",
    "mergeSort(nums)"
   ]
  },
  {
   "cell_type": "markdown",
   "metadata": {},
   "source": [
    "# Binary Search\n",
    "\n",
    "The Binary Search algorithm works by finding the number in the middle of a given array and comparing it to the target. Given that the array is sorted\n",
    "\n",
    "* The worst case run time for this algorithm is `O(log(n))`"
   ]
  },
  {
   "cell_type": "code",
   "execution_count": 17,
   "metadata": {},
   "outputs": [
    {
     "data": {
      "text/plain": [
       "'The index is... 2'"
      ]
     },
     "execution_count": 17,
     "metadata": {},
     "output_type": "execute_result"
    }
   ],
   "source": [
    "# Less = left\n",
    "# Greater = right\n",
    "# Lists of numbers MUST be sorted!!!!\n",
    "\n",
    "def binarySearchHelperFunction(array, target, left, right):\n",
    "    while left <= right:\n",
    "        middle = (left + right ) // 2\n",
    "        potentialMatch = array[middle]\n",
    "        if target == potentialMatch:\n",
    "            return f\"The index is... {middle}\"\n",
    "        elif target < potentialMatch:\n",
    "            right = middle - 1\n",
    "        else:\n",
    "            left = middle + 1\n",
    "    return -1\n",
    "\n",
    "def binarySearch(array, target):\n",
    "    return binarySearchHelperFunction(array, target, 0, len(array) - 1)\n",
    "\n",
    "binarySearch([22, 34, 44, 55, 66, 88, 100],44)"
   ]
  },
  {
   "cell_type": "markdown",
   "metadata": {},
   "source": [
    "# Exercises"
   ]
  },
  {
   "cell_type": "markdown",
   "metadata": {},
   "source": [
    "### Exercise #1 <br>\n",
    "<p>Reverse the list below in-place using an in-place algorithm.<br>For extra credit: Reverse the strings at the same time.</p>"
   ]
  },
  {
   "cell_type": "code",
   "execution_count": 29,
   "metadata": {},
   "outputs": [
    {
     "name": "stdout",
     "output_type": "stream",
     "text": [
      "Before swap: ['this', 'is', 'a', 'sentence', '.']\n",
      "After swap: ['.', 'si', 'a', 'sentence', 'siht']\n"
     ]
    }
   ],
   "source": [
    "words = ['this' , 'is', 'a', 'sentence', '.']\n",
    "def custom_swap(my_words):\n",
    "    my_words[0], my_words[-1] = my_words[-1], my_words[0]  \n",
    "    my_words[1] = my_words[1][::-1]  \n",
    "    my_words[-1] = my_words[-1][::-1] \n",
    "    return my_words\n",
    "\n",
    "print(f\"Before swap: {words}\")\n",
    "\n",
    "\n",
    "custom_swap(words)\n",
    "\n",
    "print(f\"After swap: {words}\")\n",
    "\n"
   ]
  },
  {
   "cell_type": "markdown",
   "metadata": {},
   "source": [
    "### Exercise #2 <br>\n",
    "<p>Create a function that counts how many distinct words are in the string below, then outputs a dictionary with the words as the key and the value as the amount of times that word appears in the string.<br>Should output:<br>{'a': 5,<br>\n",
    " 'abstract': 1,<br>\n",
    " 'an': 3,<br>\n",
    " 'array': 2, ... etc...</p>"
   ]
  },
  {
   "cell_type": "code",
   "execution_count": 31,
   "metadata": {},
   "outputs": [
    {
     "name": "stdout",
     "output_type": "stream",
     "text": [
      "{'in': 1, 'computing,': 1, 'a': 5, 'hash': 4, 'table': 2, 'map': 2, 'is': 1, 'data': 2, 'structure': 2, 'which': 2, 'implements': 1, 'an': 3, 'associative': 1, 'array': 2, 'abstract': 1, 'type,': 1, 'that': 1, 'can': 2, 'keys': 1, 'to': 2, 'values.': 1, 'uses': 1, 'function': 1, 'compute': 1, 'index': 1, 'into': 1, 'of': 1, 'buckets': 1, 'or': 1, 'slots': 1, 'from': 1, 'the': 1, 'desired': 1, 'value': 1, 'be': 1, 'found': 1}\n"
     ]
    }
   ],
   "source": [
    "a_text = 'In computing, a hash table hash map is a data structure which implements an associative array abstract data type, a structure that can map keys to values. A hash table uses a hash function to compute an index into an array of buckets or slots from which the desired value can be found'\n",
    "\n",
    "def count_word_occurrences(a_text):\n",
    "    words = a_text.split()\n",
    "    word_counts = {}\n",
    "    for word in words:\n",
    "        lowercase_word = word.lower()\n",
    "        if lowercase_word in word_counts:\n",
    "            word_counts[lowercase_word] += 1\n",
    "        else:\n",
    "            word_counts[lowercase_word] = 1\n",
    "    return word_counts\n",
    "\n",
    "result = count_word_occurrences(a_text)\n",
    "print(result)\n",
    "\n"
   ]
  },
  {
   "cell_type": "markdown",
   "metadata": {},
   "source": [
    "## Exercise #3\n",
    "\n",
    "Write a program to implement a Linear Search Algorithm. Also in a comment, write the Time Complexity of the following algorithm.\n",
    "\n",
    "#### Hint: Linear Searching will require searching a list for a given number. "
   ]
  },
  {
   "cell_type": "code",
   "execution_count": 40,
   "metadata": {},
   "outputs": [
    {
     "name": "stdout",
     "output_type": "stream",
     "text": [
      "Element is present at index 3\n"
     ]
    }
   ],
   "source": [
    "# num_list = [10, 23, 45, 70, 11, 15]\n",
    "# target = 70\n",
    "# If number is not present return - 1\n",
    "\n",
    "def linear_search(num_list, N, target): \n",
    "  \n",
    "    for i in range(0, N): \n",
    "        if (num_list[i] == target): \n",
    "            return i \n",
    "    return -1\n",
    "  \n",
    "if __name__ == \"__main__\": \n",
    "    num_list = [10, 23, 45, 70, 11, 15]\n",
    "    target = 70\n",
    "    N = len(num_list) \n",
    "  \n",
    "    result = linear_search(num_list, N, target) \n",
    "    if(result == -1): \n",
    "        print(\"Element is not present in array\") \n",
    "    else: \n",
    "        print(\"Element is present at index\", result) \n"
   ]
  },
  {
   "cell_type": "code",
   "execution_count": null,
   "metadata": {},
   "outputs": [],
   "source": []
  }
 ],
 "metadata": {
  "kernelspec": {
   "display_name": "Python 3 (ipykernel)",
   "language": "python",
   "name": "python3"
  },
  "language_info": {
   "codemirror_mode": {
    "name": "ipython",
    "version": 3
   },
   "file_extension": ".py",
   "mimetype": "text/x-python",
   "name": "python",
   "nbconvert_exporter": "python",
   "pygments_lexer": "ipython3",
   "version": "3.11.5"
  }
 },
 "nbformat": 4,
 "nbformat_minor": 2
}
